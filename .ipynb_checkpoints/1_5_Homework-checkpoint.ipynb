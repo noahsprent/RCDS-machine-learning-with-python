{
 "cells": [
  {
   "cell_type": "markdown",
   "id": "abe53ed8",
   "metadata": {},
   "source": [
    "# Machine Learning with Python"
   ]
  },
  {
   "cell_type": "markdown",
   "id": "3916e3bb",
   "metadata": {},
   "source": [
    "## 1.5 Homework"
   ]
  },
  {
   "cell_type": "markdown",
   "id": "2872735e",
   "metadata": {},
   "source": [
    "### 0\n",
    "\n",
    "Find a dataset that interests you that will be suitable for *supervised learning*:\n",
    "\n",
    "At least one of the variables should be a *target* value that would be interesting to predict.\n",
    "This will be either\n",
    "* a class label (for classification) or \n",
    "* a numerical value (for regression)\n",
    "\n",
    "There should be sufficient features to make the problem interesting - at least 4 non-target columns.\n",
    "\n",
    "There should be sufficient data points to allow for meaningful cross-validation - at least 100 rows.\n",
    "\n",
    "Your dataset could be loaded directly from [OpenML](https://www.openml.org/home) or from a CSV file that you have prepared."
   ]
  },
  {
   "cell_type": "code",
   "execution_count": 1,
   "id": "bba71a16-2efe-4cd2-9cbb-af7e374dca5e",
   "metadata": {},
   "outputs": [],
   "source": [
    "import pandas as pd\n",
    "from sklearn.model_selection import train_test_split"
   ]
  },
  {
   "cell_type": "code",
   "execution_count": 2,
   "id": "65b26d51-2916-42e3-b6a8-758392363270",
   "metadata": {},
   "outputs": [],
   "source": [
    "data_df = pd.read_csv(\"active_learning_cell_free.csv\", index_col=0)"
   ]
  },
  {
   "cell_type": "markdown",
   "id": "8046c30d",
   "metadata": {},
   "source": [
    "### 1\n",
    "\n",
    "Produce a visualisation of the whole dataset using a dimensionality reduction technique of your choice."
   ]
  },
  {
   "cell_type": "code",
   "execution_count": 3,
   "id": "c1b5a139",
   "metadata": {},
   "outputs": [],
   "source": [
    "X_train, X_test, y_train, y_test = train_test_split(data_df.iloc[:, 0:11], data_df.loc[:, \"yield\"],\n",
    "                                                    random_state=1)"
   ]
  },
  {
   "cell_type": "code",
   "execution_count": 5,
   "id": "c1c0c1e3-e400-480d-b2ab-f7bfa0e95d8d",
   "metadata": {},
   "outputs": [
    {
     "name": "stdout",
     "output_type": "stream",
     "text": [
      "Original shape: (762, 11)\n",
      "Reduced shape: (762, 2)\n"
     ]
    }
   ],
   "source": [
    "from sklearn.decomposition import PCA\n",
    "\n",
    "# keep the first two principal components of the data\n",
    "pca = PCA(n_components=2)\n",
    "\n",
    "# fit PCA model to breast cancer data\n",
    "pca.fit(X_train)\n",
    "\n",
    "# transform data onto the first two principal components\n",
    "X_pca = pca.transform(X_train)\n",
    "print(\"Original shape: {}\".format(str(X_train.shape)))\n",
    "print(\"Reduced shape: {}\".format(str(X_pca.shape)))"
   ]
  },
  {
   "cell_type": "code",
   "execution_count": 8,
   "id": "fe7ed68c-4415-4f7e-8e7e-fc8a31b9949b",
   "metadata": {},
   "outputs": [],
   "source": [
    "import matplotlib.pyplot as plt"
   ]
  },
  {
   "cell_type": "code",
   "execution_count": 15,
   "id": "0226a409-9640-4b04-b847-2a4b5dad53a4",
   "metadata": {},
   "outputs": [
    {
     "name": "stderr",
     "output_type": "stream",
     "text": [
      "No artists with labels found to put in legend.  Note that artists whose label start with an underscore are ignored when legend() is called with no argument.\n"
     ]
    },
    {
     "data": {
      "image/png": "[encoded data removed]",
      "text/plain": [
       "<Figure size 800x800 with 1 Axes>"
      ]
     },
     "metadata": {},
     "output_type": "display_data"
    }
   ],
   "source": [
    "# plot first vs. second principal component, colored by class\n",
    "plt.figure(figsize=(8, 8))\n",
    "plt.scatter(X_pca[:, 0], X_pca[:, 1], c=y_train)\n",
    "plt.gca().set_aspect(\"equal\")\n",
    "plt.xlabel(\"First principal component\")\n",
    "plt.ylabel(\"Second principal component\")\n",
    "plt.legend()\n",
    "plt.show()"
   ]
  },
  {
   "cell_type": "markdown",
   "id": "f0dba803",
   "metadata": {},
   "source": [
    "### 2\n",
    "Apply a clustering algorithm to the data and evaluate the results in an appropriate way."
   ]
  },
  {
   "cell_type": "code",
   "execution_count": 16,
   "id": "b5ad1cdd",
   "metadata": {},
   "outputs": [
    {
     "name": "stdout",
     "output_type": "stream",
     "text": [
      "Cluster memberships:\n",
      "[ 0  1  1  2  3  3  1  3  4  3 14 -1  1  3  3  3  2  2  5  6 -1  1 -1  6\n",
      "  6  3  3  1  1  3  1 -1  7  1  2  2  8  3  1  1  8  2  3  6  2  6  9  3\n",
      "  3  2  3  3  1  3  1  6  1  0 -1  3  3  4  6  3  3  3  2  7  7 -1  2  1\n",
      "  3  2  1  2  3 10  1  3  3  0  3  3  3  3  3  7  6  3  2  2  5  3  1  3\n",
      "  3  1  3  2  2  3  2  6  1 -1  4  3  1 -1  1  3 11  0  3  2 -1  2  7  3\n",
      "  1 12 -1  9  2 -1  3  2  2 -1  1  3  0  3  3  3  7  3  2  3  7  3  1 -1\n",
      "  7 -1  3  3  3  1 13  2  2  3  0  3  5  1  2  6 -1  6  1  6  1  3 12 13\n",
      "  2  1  1  4  7  2  3  6  3  3  3  3  6  3  9  3  1  7  7 -1  3  1 12  2\n",
      "  2  1  3 11  4  2  3  6 -1  2  3  1  3  9 -1 -1 10  3  3 -1  3  3 10 11\n",
      "  3  3  3  3  6  7  2  1 12 -1  6 -1  9  3  0  6  3  3  1  1  2 -1 11  3\n",
      "  7 11  2  3  6  2  9  2  0  7  2  2  7  3  2  2 -1  3 12  3  2  3  1  3\n",
      " 10  3  2  3  3  3  3  3  0  6 -1  3  1  0 -1  5 -1  3  3  3  6  3  3  2\n",
      "  3  2  3  2  1  3  2  2  5  2  2  6  6 -1  1  3  1  1  3  1  3  3  3  3\n",
      " -1  2  2  1  3  6  2  1  1  3  7 10  3  2  0  7  3  1  3  3  2  7  3  2\n",
      "  3  2  6  2  1  1  3  3 13  6  3  1  1  7  6  6  7  3  2  3  6  3  3  2\n",
      "  7  2  6  1  1  0  5  1 -1  6 -1  6  6  6  3  7  1  2  1  3  6  1  8  1\n",
      "  1  1 -1  3  2 -1  3  1  3  3  1  1  3  8  1 -1  3  3 -1  7  3  6  0  6\n",
      "  3  3 12  2  1  3  6  7  7  3  1  2  1  0  1  3  1  1  6 14  3  1  1  1\n",
      "  7  6  9  2  0  3  6  6  3  8  9 -1  3  2  1  7  6 -1  1  2  3  3 13  6\n",
      "  3  7  2  3  3  1  2  9 -1  8  9  2  4  2  3  1  1  1  1  1  3  8  1  3\n",
      "  3  1 13  3  3 -1 13  6  1 -1  3  6  1  1  3  7  2  2  3  2 -1  0  9  6\n",
      "  1 -1  3  1  3  3 -1  1  0  6  6 -1 12  6  3  9  1  1 -1 -1  3  1  3  3\n",
      "  2  3 -1  6  7  1  7  2  3  7  3  3  2  6  1 10  1  3  7  1  7 -1  3  6\n",
      "  2  9  2  6  3  3  3  3  3  3  2  1  3  3  2  1  6  6  3  3  2 -1  1  1\n",
      "  3  1  3  2  2  3 -1 -1  2  3  3  9  2  3  6  6  1  3  2  1  3  6  0  7\n",
      "  1  2  3 12 10 -1  6  3  2  3 -1  1  1 -1  2 -1 10  1  3  3  1  3  1  3\n",
      " 11  3  3  2 -1  3 -1  7  1  0  3  3 11  6  3  3  2 10  1  3  1  2  6  3\n",
      " 14  1  2  8  3  2  6  3  0  3  3  1  3  6  6  3 10  3 11 14  0  2  7  4\n",
      "  3  3 -1  1  3  2  1  6  3  2 -1  9 -1 -1  2  6  1  1  2  1 -1  3 -1  2\n",
      "  3  3 11  3  3  6  6 -1  3  2  3  6  3  3  3  2 10  7  1  3  6  3  1  7\n",
      " -1  2 14  2  1  2  2  3  1 13  3  3  2  3  3  2  7  1  6  1  6  6  2  6\n",
      "  2  2  3  3  3  1 10 -1  1  1  3  3  1  3 -1  1  7 -1]\n"
     ]
    }
   ],
   "source": [
    "from sklearn.cluster import DBSCAN\n",
    "\n",
    "dbscan = DBSCAN()\n",
    "clusters = dbscan.fit_predict(X_train)\n",
    "print(\"Cluster memberships:\\n{}\".format(clusters))"
   ]
  },
  {
   "cell_type": "code",
   "execution_count": 17,
   "id": "9e5b71f6-f591-434d-9c5f-0b9a73981fdd",
   "metadata": {},
   "outputs": [
    {
     "data": {
      "text/plain": [
       "array([ 0,  1,  1,  2,  3,  3,  1,  3,  4,  3, 14, -1,  1,  3,  3,  3,  2,\n",
       "        2,  5,  6, -1,  1, -1,  6,  6,  3,  3,  1,  1,  3,  1, -1,  7,  1,\n",
       "        2,  2,  8,  3,  1,  1,  8,  2,  3,  6,  2,  6,  9,  3,  3,  2,  3,\n",
       "        3,  1,  3,  1,  6,  1,  0, -1,  3,  3,  4,  6,  3,  3,  3,  2,  7,\n",
       "        7, -1,  2,  1,  3,  2,  1,  2,  3, 10,  1,  3,  3,  0,  3,  3,  3,\n",
       "        3,  3,  7,  6,  3,  2,  2,  5,  3,  1,  3,  3,  1,  3,  2,  2,  3,\n",
       "        2,  6,  1, -1,  4,  3,  1, -1,  1,  3, 11,  0,  3,  2, -1,  2,  7,\n",
       "        3,  1, 12, -1,  9,  2, -1,  3,  2,  2, -1,  1,  3,  0,  3,  3,  3,\n",
       "        7,  3,  2,  3,  7,  3,  1, -1,  7, -1,  3,  3,  3,  1, 13,  2,  2,\n",
       "        3,  0,  3,  5,  1,  2,  6, -1,  6,  1,  6,  1,  3, 12, 13,  2,  1,\n",
       "        1,  4,  7,  2,  3,  6,  3,  3,  3,  3,  6,  3,  9,  3,  1,  7,  7,\n",
       "       -1,  3,  1, 12,  2,  2,  1,  3, 11,  4,  2,  3,  6, -1,  2,  3,  1,\n",
       "        3,  9, -1, -1, 10,  3,  3, -1,  3,  3, 10, 11,  3,  3,  3,  3,  6,\n",
       "        7,  2,  1, 12, -1,  6, -1,  9,  3,  0,  6,  3,  3,  1,  1,  2, -1,\n",
       "       11,  3,  7, 11,  2,  3,  6,  2,  9,  2,  0,  7,  2,  2,  7,  3,  2,\n",
       "        2, -1,  3, 12,  3,  2,  3,  1,  3, 10,  3,  2,  3,  3,  3,  3,  3,\n",
       "        0,  6, -1,  3,  1,  0, -1,  5, -1,  3,  3,  3,  6,  3,  3,  2,  3,\n",
       "        2,  3,  2,  1,  3,  2,  2,  5,  2,  2,  6,  6, -1,  1,  3,  1,  1,\n",
       "        3,  1,  3,  3,  3,  3, -1,  2,  2,  1,  3,  6,  2,  1,  1,  3,  7,\n",
       "       10,  3,  2,  0,  7,  3,  1,  3,  3,  2,  7,  3,  2,  3,  2,  6,  2,\n",
       "        1,  1,  3,  3, 13,  6,  3,  1,  1,  7,  6,  6,  7,  3,  2,  3,  6,\n",
       "        3,  3,  2,  7,  2,  6,  1,  1,  0,  5,  1, -1,  6, -1,  6,  6,  6,\n",
       "        3,  7,  1,  2,  1,  3,  6,  1,  8,  1,  1,  1, -1,  3,  2, -1,  3,\n",
       "        1,  3,  3,  1,  1,  3,  8,  1, -1,  3,  3, -1,  7,  3,  6,  0,  6,\n",
       "        3,  3, 12,  2,  1,  3,  6,  7,  7,  3,  1,  2,  1,  0,  1,  3,  1,\n",
       "        1,  6, 14,  3,  1,  1,  1,  7,  6,  9,  2,  0,  3,  6,  6,  3,  8,\n",
       "        9, -1,  3,  2,  1,  7,  6, -1,  1,  2,  3,  3, 13,  6,  3,  7,  2,\n",
       "        3,  3,  1,  2,  9, -1,  8,  9,  2,  4,  2,  3,  1,  1,  1,  1,  1,\n",
       "        3,  8,  1,  3,  3,  1, 13,  3,  3, -1, 13,  6,  1, -1,  3,  6,  1,\n",
       "        1,  3,  7,  2,  2,  3,  2, -1,  0,  9,  6,  1, -1,  3,  1,  3,  3,\n",
       "       -1,  1,  0,  6,  6, -1, 12,  6,  3,  9,  1,  1, -1, -1,  3,  1,  3,\n",
       "        3,  2,  3, -1,  6,  7,  1,  7,  2,  3,  7,  3,  3,  2,  6,  1, 10,\n",
       "        1,  3,  7,  1,  7, -1,  3,  6,  2,  9,  2,  6,  3,  3,  3,  3,  3,\n",
       "        3,  2,  1,  3,  3,  2,  1,  6,  6,  3,  3,  2, -1,  1,  1,  3,  1,\n",
       "        3,  2,  2,  3, -1, -1,  2,  3,  3,  9,  2,  3,  6,  6,  1,  3,  2,\n",
       "        1,  3,  6,  0,  7,  1,  2,  3, 12, 10, -1,  6,  3,  2,  3, -1,  1,\n",
       "        1, -1,  2, -1, 10,  1,  3,  3,  1,  3,  1,  3, 11,  3,  3,  2, -1,\n",
       "        3, -1,  7,  1,  0,  3,  3, 11,  6,  3,  3,  2, 10,  1,  3,  1,  2,\n",
       "        6,  3, 14,  1,  2,  8,  3,  2,  6,  3,  0,  3,  3,  1,  3,  6,  6,\n",
       "        3, 10,  3, 11, 14,  0,  2,  7,  4,  3,  3, -1,  1,  3,  2,  1,  6,\n",
       "        3,  2, -1,  9, -1, -1,  2,  6,  1,  1,  2,  1, -1,  3, -1,  2,  3,\n",
       "        3, 11,  3,  3,  6,  6, -1,  3,  2,  3,  6,  3,  3,  3,  2, 10,  7,\n",
       "        1,  3,  6,  3,  1,  7, -1,  2, 14,  2,  1,  2,  2,  3,  1, 13,  3,\n",
       "        3,  2,  3,  3,  2,  7,  1,  6,  1,  6,  6,  2,  6,  2,  2,  3,  3,\n",
       "        3,  1, 10, -1,  1,  1,  3,  3,  1,  3, -1,  1,  7, -1])"
      ]
     },
     "execution_count": 17,
     "metadata": {},
     "output_type": "execute_result"
    }
   ],
   "source": [
    "clusters"
   ]
  },
  {
   "cell_type": "code",
   "execution_count": null,
   "id": "e85f0c75-db8d-44fb-9d99-07c3d9bde57f",
   "metadata": {},
   "outputs": [],
   "source": []
  }
 ],
 "metadata": {
  "kernelspec": {
   "display_name": "ml-python",
   "language": "python",
   "name": "ml-python"
  },
  "language_info": {
   "codemirror_mode": {
    "name": "ipython",
    "version": 3
   },
   "file_extension": ".py",
   "mimetype": "text/x-python",
   "name": "python",
   "nbconvert_exporter": "python",
   "pygments_lexer": "ipython3",
   "version": "3.10.8"
  }
 },
 "nbformat": 4,
 "nbformat_minor": 5
}
