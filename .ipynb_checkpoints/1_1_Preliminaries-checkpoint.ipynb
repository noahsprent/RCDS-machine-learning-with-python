{
 "cells": [
  {
   "cell_type": "markdown",
   "metadata": {},
   "source": [
    "# Machine Learning with Python"
   ]
  },
  {
   "cell_type": "markdown",
   "metadata": {},
   "source": [
    "## 1.1 Preliminaries"
   ]
  },
  {
   "cell_type": "markdown",
   "metadata": {},
   "source": [
    "### Welcome!\n",
    "\n",
    "This material is designed to follow on from the *Introduction to Machine Learning* course, with the aim of bringing the theory into practice using the Python programming language, and in particular the `scikit-learn` library.\n",
    "\n",
    "### Intended Learning Outcomes\n",
    "\n",
    "After completing this workshop, you will be better able to:\n",
    "\n",
    "* Prepare a dataset for machine learning in Python\n",
    "* Select a scikit-learn method appropriate for a particular learning task\n",
    "* Construct your own workflows for model training and testing\n",
    "* Evaluate the performance of a model\n",
    "\n"
   ]
  },
  {
   "cell_type": "markdown",
   "metadata": {},
   "source": [
    "### Textbook\n",
    "\n",
    "This course makes use of material from [*Introduction to Machine Learning with Python*](http://ebookcentral.proquest.com/lib/imperial/detail.action?docID=4698164) by Andreas C. Müller and Sarah Guido. \n",
    "\n",
    "You will not need the book to understand the course, but you may find it a useful source for further learning.\n"
   ]
  },
  {
   "cell_type": "markdown",
   "metadata": {},
   "source": [
    "### [scikit-learn](https://scikit-learn.org/)\n",
    "\n",
    "This is the most popular and comprehensive machine learning package for Python.\n",
    "\n",
    "There is extensive [documentation](https://scikit-learn.org/stable/modules/classes.html) available, plus a [user guide](https://scikit-learn.org/stable/user_guide.html) and [examples](https://scikit-learn.org/stable/auto_examples/index.html).\n",
    "\n",
    "scikit-learn aims to have a consistent interface across different machine learning methods for the same task, so it is both flexible and relatively easy to use.\n",
    "\n",
    "You may find this [glossary](https://scikit-learn.org/stable/glossary.html) a useful reference to technical terms, methods and attributes.\n"
   ]
  },
  {
   "cell_type": "markdown",
   "metadata": {},
   "source": [
    "### Helper packages\n",
    "\n",
    "There are a number of other packages on which scikit-learn is built. This course does not require extensive knowledge of them, but you may find the corresponding Graduate School courses helpful if you need to understand more:\n",
    "\n",
    "#### [numpy](https://numpy.org)\n",
    "\n",
    "The core numerical computing package: [*Numerical Computing in Python with Numpy and Scipy*](https://www.imperial.ac.uk/study/pg/graduate-school/students/doctoral/professional-development/research-computing-data-science/courses/research-computing-numerical-computing-in-python-with-numpy--scipy/)\n",
    "\n",
    "#### [pandas](https://pandas.pydata.org)\n",
    "\n",
    "The data handling package: [*Data Processing with Python Pandas*](https://www.imperial.ac.uk/study/pg/graduate-school/students/doctoral/professional-development/research-computing-data-science/courses/data-processing-python-pandas/)\n",
    "\n",
    "#### [matplotlib](https://matplotlib.org)\n",
    "\n",
    "The visualisation package: [*Plotting in Python with Matplotlib*](https://www.imperial.ac.uk/study/pg/graduate-school/students/doctoral/professional-development/research-computing-data-science/courses/research-computing-plotting-in-python-with-matplotlib/)"
   ]
  },
  {
   "cell_type": "markdown",
   "metadata": {},
   "source": [
    "### Overview of the course\n",
    "\n",
    "* Part 1: [Unsupervised learning](https://scikit-learn.org/stable/unsupervised_learning.html)\n",
    "\n",
    "(Homework project)\n",
    "\n",
    "* Part 2: [Supervised learning](https://scikit-learn.org/stable/supervised_learning.html)\n",
    "\n",
    "(Homework project)\n",
    "\n",
    "* Part 3: [Working with text data](https://scikit-learn.org/stable/tutorial/text_analytics/working_with_text_data.html)"
   ]
  }
 ],
 "metadata": {
  "kernelspec": {
   "display_name": "Python 3",
   "language": "python",
   "name": "python3"
  },
  "language_info": {
   "codemirror_mode": {
    "name": "ipython",
    "version": 3
   },
   "file_extension": ".py",
   "mimetype": "text/x-python",
   "name": "python",
   "nbconvert_exporter": "python",
   "pygments_lexer": "ipython3",
   "version": "3.8.3"
  }
 },
 "nbformat": 4,
 "nbformat_minor": 5
}
